{
 "cells": [
  {
   "cell_type": "code",
   "execution_count": 1,
   "id": "fa722589-0414-4e70-b164-6bb65d5c91b8",
   "metadata": {},
   "outputs": [],
   "source": [
    "# Q1. Explain why we have to use the Exception class while creating a Custom Exception."
   ]
  },
  {
   "cell_type": "code",
   "execution_count": 2,
   "id": "b038c96c-1362-4e97-9533-19f205dfc143",
   "metadata": {},
   "outputs": [],
   "source": [
    "# A1.Built-in exceptions offer information about Python-related problems, and custom exceptions will add information about project-related problems"
   ]
  },
  {
   "cell_type": "code",
   "execution_count": 3,
   "id": "c1cca84d-10de-406c-b5ff-3fda336aaa2f",
   "metadata": {},
   "outputs": [],
   "source": [
    "# Q2. Write a python program to print Python Exception Hierarchy."
   ]
  },
  {
   "cell_type": "code",
   "execution_count": 4,
   "id": "d6056f1d-f9f6-4f5f-94b8-35eba258b9d5",
   "metadata": {},
   "outputs": [
    {
     "name": "stdout",
     "output_type": "stream",
     "text": [
      "func() missing 1 required positional argument: 'x'\n"
     ]
    }
   ],
   "source": [
    "# A2.\n",
    "try:\n",
    "    def func(x):\n",
    "        print(x*x)\n",
    "    func()\n",
    "except Exception as e:\n",
    "    print(e)\n",
    "else:\n",
    "    print(\"else is executed when try is executed\")"
   ]
  },
  {
   "cell_type": "code",
   "execution_count": 5,
   "id": "cd076e1a-ba73-446e-a5b2-46ae5342cae2",
   "metadata": {},
   "outputs": [],
   "source": [
    "# Q3. What errors are defined in the ArithmeticError class? Explain any two with an example."
   ]
  },
  {
   "cell_type": "code",
   "execution_count": 6,
   "id": "a41812c0-e48f-497c-a231-72ef54a44ca2",
   "metadata": {},
   "outputs": [
    {
     "name": "stdout",
     "output_type": "stream",
     "text": [
      "division by zero\n"
     ]
    }
   ],
   "source": [
    "# A3.\n",
    "# 1.\n",
    "try:\n",
    "    a = 10/0\n",
    "    print(a)\n",
    "except ArithmeticError as e:\n",
    "    print(e)"
   ]
  },
  {
   "cell_type": "code",
   "execution_count": 7,
   "id": "d0d976ee-8a2a-488f-866d-8b304248b48a",
   "metadata": {},
   "outputs": [
    {
     "name": "stdout",
     "output_type": "stream",
     "text": [
      "math range error\n"
     ]
    }
   ],
   "source": [
    "# 2.\n",
    "try:\n",
    "    import math\n",
    "    print(math.exp(1000))\n",
    "except OverflowError as e:\n",
    "    print(e)\n"
   ]
  },
  {
   "cell_type": "code",
   "execution_count": 8,
   "id": "a147478e-6a58-44f5-818c-1dd7b4f82848",
   "metadata": {},
   "outputs": [],
   "source": [
    "# Q4. Why LookupError class is used? Explain with an example KeyError and IndexError."
   ]
  },
  {
   "cell_type": "code",
   "execution_count": 9,
   "id": "8790e49b-7dbe-471d-8f03-bf97551b3f74",
   "metadata": {},
   "outputs": [
    {
     "name": "stdout",
     "output_type": "stream",
     "text": [
      "'name1'\n"
     ]
    }
   ],
   "source": [
    "# A4.\n",
    "# keyerror\n",
    "try:\n",
    "    d =  {'name':'nad', 'age':23, 'id':234}\n",
    "    print(d['name1'])\n",
    "except KeyError as e:\n",
    "    print(e)"
   ]
  },
  {
   "cell_type": "code",
   "execution_count": 10,
   "id": "18684715-b337-4756-a08b-8a973af85f63",
   "metadata": {},
   "outputs": [
    {
     "name": "stdout",
     "output_type": "stream",
     "text": [
      "string index out of range\n"
     ]
    }
   ],
   "source": [
    "# indexerror\n",
    "try:\n",
    "    s = \"we are indian\"\n",
    "    print(s[14])\n",
    "except IndexError as e:\n",
    "    print(e)"
   ]
  },
  {
   "cell_type": "code",
   "execution_count": 11,
   "id": "317ecb7a-1b4c-49af-b8a4-4ee7125a824f",
   "metadata": {},
   "outputs": [],
   "source": [
    "# Q5. Explain ImportError. What is ModuleNotFoundError?"
   ]
  },
  {
   "cell_type": "code",
   "execution_count": 12,
   "id": "16feb682-70d7-411d-bcf4-a6918f0ced77",
   "metadata": {},
   "outputs": [
    {
     "name": "stdout",
     "output_type": "stream",
     "text": [
      "ImportError No module named 'nad'\n"
     ]
    }
   ],
   "source": [
    "# A5.\n",
    "try:\n",
    "    import nad \n",
    "except ImportError as e:\n",
    "    print(\"ImportError\", e)"
   ]
  },
  {
   "cell_type": "code",
   "execution_count": 13,
   "id": "c3c33a42-cfd0-4bb0-85e0-4e51ed8e1048",
   "metadata": {},
   "outputs": [
    {
     "name": "stdout",
     "output_type": "stream",
     "text": [
      "ModuleNotFoundError No module named 'son'\n"
     ]
    }
   ],
   "source": [
    "try:\n",
    "    import son\n",
    "except ModuleNotFoundError as e:\n",
    "    print('ModuleNotFoundError',e)"
   ]
  },
  {
   "cell_type": "code",
   "execution_count": 14,
   "id": "5ac589fc-12b5-4f41-b5d2-58955e5ee23a",
   "metadata": {},
   "outputs": [],
   "source": [
    "# Q6. List down some best practices for exception handling in python."
   ]
  },
  {
   "cell_type": "code",
   "execution_count": 16,
   "id": "ade59136-8a11-4807-873e-2d24ccab36db",
   "metadata": {},
   "outputs": [
    {
     "name": "stdout",
     "output_type": "stream",
     "text": [
      "list index out of range\n"
     ]
    }
   ],
   "source": [
    "# A6.\n",
    "try:\n",
    "    l = [1,2,3,4,5,7]\n",
    "    print(l[11])\n",
    "except IndexError as e:\n",
    "    print(e)\n",
    "    "
   ]
  },
  {
   "cell_type": "code",
   "execution_count": 20,
   "id": "e4a7f576-f650-4438-a1f4-10326af6ca34",
   "metadata": {},
   "outputs": [
    {
     "name": "stdout",
     "output_type": "stream",
     "text": [
      "[Errno 2] No such file or directory: 'test.txt'\n"
     ]
    }
   ],
   "source": [
    "try:\n",
    "    f = open(\"test.txt\", 'r')\n",
    "    print(f.read())\n",
    "except FileNotFoundError as e:\n",
    "    print(e)"
   ]
  },
  {
   "cell_type": "code",
   "execution_count": null,
   "id": "be9c0419-a614-422b-9204-e11aa983e901",
   "metadata": {},
   "outputs": [],
   "source": []
  }
 ],
 "metadata": {
  "kernelspec": {
   "display_name": "Python 3 (ipykernel)",
   "language": "python",
   "name": "python3"
  },
  "language_info": {
   "codemirror_mode": {
    "name": "ipython",
    "version": 3
   },
   "file_extension": ".py",
   "mimetype": "text/x-python",
   "name": "python",
   "nbconvert_exporter": "python",
   "pygments_lexer": "ipython3",
   "version": "3.10.8"
  }
 },
 "nbformat": 4,
 "nbformat_minor": 5
}
